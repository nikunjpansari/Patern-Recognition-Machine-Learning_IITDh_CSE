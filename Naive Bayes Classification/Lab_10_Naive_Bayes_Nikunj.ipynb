{
 "cells": [
  {
   "cell_type": "markdown",
   "metadata": {
    "id": "1SxibeRm0eHP"
   },
   "source": [
    "##***LAB 10 : Naive Bayes Classifier***##\n",
    "\n",
    "  1. Binary Classification using Naive Bayes Classifier\n",
    "  \n",
    "  2. Sentiment Analysis using Naive Bayes\n",
    "\n",
    "  \n"
   ]
  },
  {
   "cell_type": "code",
   "execution_count": 12,
   "metadata": {
    "id": "JL_2f9KRjax4"
   },
   "outputs": [],
   "source": [
    "import numpy as np\n",
    "import matplotlib.pyplot as plt\n",
    "from math import sqrt\n",
    "from math import pi\n",
    "from math import exp"
   ]
  },
  {
   "cell_type": "markdown",
   "metadata": {
    "id": "3kFmTcwYjaLM"
   },
   "source": [
    "##Binary Classification using Naive Bayes Classifier##\n",
    "\n",
    "Useful References : \n",
    "1. https://machinelearningmastery.com/naive-bayes-classifier-scratch-python/\n",
    "\n",
    "2. https://www.analyticsvidhya.com/blog/2021/01/a-guide-to-the-naive-bayes-algorithm/\n",
    "\n",
    "3. https://towardsdatascience.com/implementing-naive-bayes-algorithm-from-scratch-python-c6880cfc9c41\n",
    "\n",
    "**Note : The goal of this experiment is to perform and understand Naive Bayes classification by applying it on the below dataset, you can either fill in the below functions to get the result or you can create a class of your own using the above references to perform classification**"
   ]
  },
  {
   "cell_type": "markdown",
   "metadata": {
    "id": "buED4mnvjz_5"
   },
   "source": [
    "1. Generation of 2D training data"
   ]
  },
  {
   "cell_type": "code",
   "execution_count": 13,
   "metadata": {
    "colab": {
     "base_uri": "https://localhost:8080/",
     "height": 298
    },
    "id": "pXA9oMypj3OM",
    "outputId": "a285134f-1a41-49db-b733-8a6a2f92daa1"
   },
   "outputs": [
    {
     "data": {
      "text/plain": [
       "Text(0.5, 1.0, 'Data visualization')"
      ]
     },
     "execution_count": 13,
     "metadata": {},
     "output_type": "execute_result"
    },
    {
     "data": {
      "image/png": "[encoded data removed]",
      "text/plain": [
       "<Figure size 432x288 with 1 Axes>"
      ]
     },
     "metadata": {
      "needs_background": "light"
     },
     "output_type": "display_data"
    }
   ],
   "source": [
    "mean1=np.array([0,0])\n",
    "mean2=np.array([4,5])\n",
    "var=np.array([[1,0.1],[0.1,1]])\n",
    "np.random.seed(0)\n",
    "data1=np.random.multivariate_normal(mean1,var,50)\n",
    "data2=np.random.multivariate_normal(mean2,var,50)\n",
    "data=np.concatenate((data1,data2))\n",
    "label=np.concatenate((np.zeros(data1.shape[0]),np.ones(data2.shape[0])))\n",
    "\n",
    "plt.figure()\n",
    "plt.scatter(data[:,0],data[:,1],c=label)\n",
    "plt.title('Data visualization')"
   ]
  },
  {
   "cell_type": "markdown",
   "metadata": {
    "id": "6cJBcLjTpMpX"
   },
   "source": [
    "2. Split the Dataset by Class Values (Create a Dictionary)"
   ]
  },
  {
   "cell_type": "code",
   "execution_count": 14,
   "metadata": {
    "colab": {
     "base_uri": "https://localhost:8080/"
    },
    "id": "vYfrEmkJn8I7",
    "outputId": "4cd4bd78-362c-4cc5-b56c-7ec0e14318c1"
   },
   "outputs": [
    {
     "name": "stdout",
     "output_type": "stream",
     "text": [
      "This as a dictionary: {0: [array([-1.57668985, -1.03982262]), array([-2.22908837,  0.77738534]), array([-0.72944014, -2.04059601]), array([-0.60307093, -0.80613793]), array([-0.1988887,  0.351987 ]), array([-1.0823819 ,  0.86873075]), array([-0.64602276, -0.4827786 ]), array([-0.55301333, -0.10534224]), array([-0.97041435, -1.24566304]), array([ 0.34076762, -0.80512206]), array([1.45488724, 2.3318086 ]), array([-0.14322361, -1.13894247]), array([-0.70767693, -2.65891323]), array([ 0.09163132, -0.15950217]), array([-2.12241532, -0.15106366]), array([-0.36859122,  0.13876704]), array([ 1.9871582 , -0.67035913]), array([0.15313648, 0.36290063]), array([-1.71898891, -0.10582707]), array([0.49004011, 0.08445841]), array([ 1.73020468, -0.1749493 ]), array([-0.04321608,  2.57402376]), array([0.67183735, 0.084099  ]), array([0.40754152, 1.45065429]), array([1.3396092 , 1.05418816]), array([0.40455369, 0.92363786]), array([ 1.17081537, -0.41316892]), array([-0.26643325,  0.30823425]), array([-0.25223481,  0.15357382]), array([0.71376003, 0.22709168]), array([0.73990561, 0.25751442]), array([ 1.761071  , -0.55498015]), array([ 0.1379401 , -0.40110559]), array([0.89854368, 1.51943123]), array([0.63802444, 0.70771651]), array([-0.6272324 , -0.45418367]), array([-0.01665582, -1.67334851]), array([ 0.16100003, -0.75776912]), array([1.03410461, 0.25749629]), array([0.19337668, 0.2687304 ]), array([0.25980547, 1.46839103]), array([ 0.68519909, -1.3758881 ]), array([-2.37551849,  0.16808376]), array([-0.75350908, -0.99490358]), array([0.08674368, 1.50143912]), array([-0.52103706,  1.11904511]), array([-0.80961024,  0.50068852]), array([-0.73827208,  0.2096953 ]), array([-1.20578537,  1.19021132]), array([-0.36378319,  0.17554214])], 1: [array([3.50752233, 2.6993138 ]), array([4.29192581, 6.59250797]), array([3.56619087, 7.17383233]), array([4.80815598, 4.80534012]), array([1.58074851, 4.56706754]), array([2.00718797, 4.22277444]), array([3.35739154, 6.92001259]), array([3.6604525 , 5.73706073]), array([3.40148307, 4.19351521]), array([2.92595151, 5.16322159]), array([4.45833583, 3.98333488]), array([2.88905394, 5.66858736]), array([4.61548321, 5.41472741]), array([3.08219469, 6.56324233]), array([3.22807915, 4.77474657]), array([4.20924569, 5.9327244 ]), array([4.4787459 , 5.52145107]), array([4.01779082, 5.92532132]), array([3.71211986, 4.43265775]), array([4.43956151, 3.97306561]), array([4.81119332, 6.40069914]), array([3.45039959, 5.30238367]), array([1.59903643, 3.86618863]), array([3.92764978, 6.42628439]), array([5.28554342, 5.66626269]), array([2.90126409, 6.19995457]), array([5.10671678, 4.99793313]), array([4.51808911, 4.62793958]), array([3.88890452, 3.44002436]), array([5.14468414, 5.55728691]), array([3.0749813, 6.6637202]), array([3.23715953, 4.35462184]), array([4.3423914 , 6.47522321]), array([5.77804351, 4.7055156 ]), array([2.90632196, 4.33154509]), array([3.10326381, 4.53088183]), array([3.80127866, 3.92783617]), array([4.30978752, 6.22424252]), array([5.05838861, 5.1332605 ]), array([4.32610657, 5.34955732]), array([5.18487428, 4.34018354]), array([5.96882436, 3.98581601]), array([4.61100889, 3.461623  ]), array([4.78403921, 5.854026  ]), array([3.51338894, 6.58356026]), array([4.77966518, 6.13795151]), array([4.81271386, 4.24555198]), array([3.72700442, 4.49685086]), array([2.87520143, 4.98004819]), array([1.49913108, 4.29227149])]}\n"
     ]
    }
   ],
   "source": [
    "# Split the dataset by class values, returns a dictionary\n",
    "def class_dictionary(data,label):\n",
    "  class_dict = {}\n",
    "  ## Write your code here\n",
    "  array1=[]\n",
    "  array2=[]\n",
    "  for i in range(len(data)):\n",
    "    if label[i]==0:\n",
    "      array1.append(data[i])\n",
    "    else:\n",
    "      array2.append(data[i])\n",
    "  class_dict={0:array1,1:array2}\n",
    "  return class_dict\n",
    "\n",
    "print('This as a dictionary:',class_dictionary(data,label))"
   ]
  },
  {
   "cell_type": "markdown",
   "metadata": {
    "id": "C2FlXCa5q2rt"
   },
   "source": [
    "3. Calculate Mean, Std deviation and count for each column in a dataset"
   ]
  },
  {
   "cell_type": "code",
   "execution_count": 15,
   "metadata": {
    "colab": {
     "base_uri": "https://localhost:8080/"
    },
    "id": "Vhy2NkxQq8EO",
    "outputId": "2baf01cc-1d68-4e79-8523-814387a4e299"
   },
   "outputs": [
    {
     "name": "stdout",
     "output_type": "stream",
     "text": [
      "{0: [(-0.08143074021616499, 0.9927104621843587, 50), (0.05650317153356914, 1.0255393627439437, 50)], 1: [(3.1034180649518266, 0.404104263401742, 50), (5.442216892364764, 1.1502910809817517, 50)]}\n"
     ]
    }
   ],
   "source": [
    "def get_variables(class_dict):\n",
    "  var_dict = {}\n",
    "  len_0=len(class_dict[0])\n",
    "  len_1=len(class_dict[1])\n",
    "  dict_mean0=np.mean(class_dict[0],axis=0)\n",
    "  dict_mean1=np.mean(class_dict[1],axis=1)\n",
    "  dict_std0=np.std(class_dict[0],axis=0)\n",
    "  dict_std1=np.std(class_dict[1],axis=1)\n",
    "  var_dict={0:[(dict_mean0[0],dict_std0[0],len_0),(dict_mean0[1],dict_std0[1],len_0)],1:[(dict_mean1[0],dict_std1[0],len_1),(dict_mean1[1],dict_std1[1],len_1)]}\n",
    "  return var_dict\n",
    "class_dict=class_dictionary(data,label)\n",
    "var=get_variables(class_dict)\n",
    "print(var)"
   ]
  },
  {
   "cell_type": "markdown",
   "metadata": {
    "id": "zKFDa--0sqlR"
   },
   "source": [
    "3. Calculate Class Probabilities"
   ]
  },
  {
   "cell_type": "code",
   "execution_count": 16,
   "metadata": {
    "id": "_cEkA46bsteW"
   },
   "outputs": [],
   "source": [
    "def calculate_probability(x,mean,stdev):\n",
    "  exponent = exp(-((x-mean)**2 / (2 * stdev**2 )))\n",
    "  return (1 / (sqrt(2 * pi) * stdev)) * exponent\n",
    "\n",
    "def calculate_class_probabilities(summaries,row):\n",
    "  probabilities = dict()\n",
    "\n",
    "  ## Write your code here to calculate the class probabilities\n",
    "  '''\n",
    "  You can use the above function (calculate_probability) to calculate probability of an individual data point belonging to a particular class \n",
    "  based on mean and std deviation of that class\n",
    "  '''\n",
    "  total_rows=np.sum([summaries[label][0][2] for label in summaries])\n",
    "  # print(total_rows)\n",
    "  for cls,cls_var in summaries.items():\n",
    "    probabilities[cls] = summaries[cls][0][2]/float(total_rows)\n",
    "    for i in range(len(cls_var)):\n",
    "      mean, stdev, _ = cls_var[i]\n",
    "      probabilities[cls] *= calculate_probability(row[i], mean, stdev)\n",
    "  return probabilities"
   ]
  },
  {
   "cell_type": "markdown",
   "metadata": {
    "id": "14kbEgqEw9_a"
   },
   "source": [
    "4. Test the model using some samples"
   ]
  },
  {
   "cell_type": "code",
   "execution_count": 17,
   "metadata": {
    "colab": {
     "base_uri": "https://localhost:8080/",
     "height": 298
    },
    "id": "x2TpLdVWw9CS",
    "outputId": "bbf36ce5-e9e8-48ff-df01-1221a0ef992f"
   },
   "outputs": [
    {
     "name": "stdout",
     "output_type": "stream",
     "text": [
      "Test Data Size :  20\n"
     ]
    },
    {
     "data": {
      "image/png": "[encoded data removed]",
      "text/plain": [
       "<Figure size 432x288 with 1 Axes>"
      ]
     },
     "metadata": {
      "needs_background": "light"
     },
     "output_type": "display_data"
    }
   ],
   "source": [
    "## Test Data Generation\n",
    "mean1=np.array([0,0])\n",
    "mean2=np.array([4,5])\n",
    "var=np.array([[1,0.1],[0.1,1]])\n",
    "np.random.seed(0)\n",
    "data1=np.random.multivariate_normal(mean1,var,10)\n",
    "data2=np.random.multivariate_normal(mean2,var,10)\n",
    "test_data=np.concatenate((data1,data2))\n",
    "y_test=np.concatenate((np.zeros(data1.shape[0]),np.ones(data2.shape[0])))\n",
    "print('Test Data Size : ',test_data.shape[0])\n",
    "plt.figure()\n",
    "plt.scatter(data[:,0],data[:,1],c=label)\n",
    "plt.title('Data visualization')\n",
    "plt.show()"
   ]
  },
  {
   "cell_type": "markdown",
   "metadata": {
    "id": "OLbY6KhzzoHw"
   },
   "source": [
    "Testing for a sample point"
   ]
  },
  {
   "cell_type": "code",
   "execution_count": 18,
   "metadata": {
    "colab": {
     "base_uri": "https://localhost:8080/"
    },
    "id": "cVcXm0UCxTcQ",
    "outputId": "d42ba77f-cf65-4116-e3a0-b7df3aafb34e"
   },
   "outputs": [
    {
     "name": "stdout",
     "output_type": "stream",
     "text": [
      "Class Probabilites for the first sample of test dataset : \n",
      "{0: 0.014197204018409897, 1: 1.6298869947734597e-37}\n"
     ]
    }
   ],
   "source": [
    "class_dict = class_dictionary(data,label)\n",
    "var_dict = get_variables(class_dict)\n",
    "out = calculate_class_probabilities(var_dict,test_data[0])\n",
    "print('Class Probabilites for the first sample of test dataset : ')\n",
    "print(out)"
   ]
  },
  {
   "cell_type": "markdown",
   "metadata": {
    "id": "mjV6DO0myhKQ"
   },
   "source": [
    "**As seen above the class probability for the 1st sample is given, we can observe that probability is higher for class 0 than 1 and hence imply that this datapoint belongs to class 0**\n",
    "\n",
    "\n",
    "Now Calculate the class probabilities for all the data points in the test dataset and calculate the accuracy by comparing the predicted labels with the true test labels\n"
   ]
  },
  {
   "cell_type": "code",
   "execution_count": 19,
   "metadata": {
    "colab": {
     "base_uri": "https://localhost:8080/"
    },
    "id": "Rs-UXbl2y-2N",
    "outputId": "f110bae6-1a1e-4074-a682-6e244411d6bb"
   },
   "outputs": [
    {
     "name": "stdout",
     "output_type": "stream",
     "text": [
      "\n",
      " Accuracy is :  1.0\n"
     ]
    }
   ],
   "source": [
    "## Write your code here\n",
    "## Write your code here\n",
    "out=[]\n",
    "y_pred=[]\n",
    "count=0\n",
    "for i in range(len(test_data)):\n",
    "  out.append(calculate_class_probabilities(var_dict,test_data[i])) \n",
    "  if out[i][0]>out[i][1]:\n",
    "    y_pred.append(0)\n",
    "  else:\n",
    "    y_pred.append(1)\n",
    "for i in range(len(y_pred)):\n",
    "  if y_pred[i]==y_test[i]:\n",
    "    count+=1\n",
    "accuracy=count/len(y_pred)\n",
    "print('\\n Accuracy is : ',accuracy)"
   ]
  },
  {
   "cell_type": "markdown",
   "metadata": {
    "id": "Qc_SfqHkz3Kz"
   },
   "source": [
    "5. Use the Sci-kit Learn library to perform Gaussian Naive Bayes classifier on the above dataset, also report the accuracy and confusion matrix for the same"
   ]
  },
  {
   "cell_type": "code",
   "execution_count": 20,
   "metadata": {
    "colab": {
     "base_uri": "https://localhost:8080/"
    },
    "id": "vt0veSsf0BVV",
    "outputId": "2a9aeacf-c22f-4da4-83e4-0ba2013085b8"
   },
   "outputs": [
    {
     "name": "stdout",
     "output_type": "stream",
     "text": [
      "\n",
      " Accuracy :  1.0\n",
      "\n",
      " Confusion matrix :  [[10  0]\n",
      " [ 0 10]]\n"
     ]
    }
   ],
   "source": [
    "## Write your code here\n",
    "from sklearn.naive_bayes import GaussianNB\n",
    "from sklearn.metrics import confusion_matrix\n",
    "## Write your code here\n",
    "gnb=GaussianNB()\n",
    "gnb.fit(data,label)\n",
    "y_pred=gnb.predict(test_data)\n",
    "accuracy=gnb.score(test_data,y_pred)\n",
    "cm=confusion_matrix(y_test,y_pred)\n",
    "print('\\n Accuracy : ',accuracy)\n",
    "print('\\n Confusion matrix : ',cm)"
   ]
  },
  {
   "cell_type": "markdown",
   "metadata": {
    "id": "1UTNODz-zsf1"
   },
   "source": [
    "##Sentiment Analysis using Naive Bayes Classifier##\n",
    "\n",
    "Go through the following [article](https://www.analyticsvidhya.com/blog/2021/07/performing-sentiment-analysis-with-naive-bayes-classifier/) and implement the same \n",
    "\n",
    "**Keypoints** : \n",
    "  \n",
    "  1. The link to the dataset is given in the above article, download the same to perform sentiment analysis\n",
    "\n",
    "  2. Understanding how to deal with text data is very important since it requires a lot of preprocessing, you can go through this [article](https://www.analyticsvidhya.com/blog/2021/06/text-preprocessing-in-nlp-with-python-codes/) if you are interested in learning more about it\n",
    "  \n",
    "  3. Split the dataset into train-test and train the model\n",
    "  \n",
    "  4. Report the accuracy metrics and try some sample prediction outside of those present in the dataset\n",
    "\n",
    "\n",
    "**Note : The goal of this experiment is to explore a practical use case of Naive bayes classifier as well as to understand how to deal with textual data, you can follow any other open source implemetations of sentiment analysis using naive bayes also**\n",
    "\n",
    "Other References : \n",
    "\n",
    "1. https://towardsdatascience.com/sentiment-analysis-introduction-to-naive-bayes-algorithm-96831d77ac91\n",
    "\n",
    "2. https://gist.github.com/CateGitau/6608912ca92733036c090676c61c13cd"
   ]
  },
  {
   "cell_type": "code",
   "execution_count": 21,
   "metadata": {
    "colab": {
     "base_uri": "https://localhost:8080/"
    },
    "id": "5x6A4Mp4zw0E",
    "outputId": "5b5c511c-db62-4a25-c2d8-d072bbc77e4f"
   },
   "outputs": [
    {
     "name": "stdout",
     "output_type": "stream",
     "text": [
      "Mounted at /content/drive\n"
     ]
    }
   ],
   "source": [
    "## Write your code here\n",
    "from google.colab import drive\n",
    "drive.mount('/content/drive')"
   ]
  },
  {
   "cell_type": "code",
   "execution_count": 27,
   "metadata": {
    "colab": {
     "base_uri": "https://localhost:8080/",
     "height": 204
    },
    "id": "31AmPTvQO89w",
    "outputId": "02acb08c-c1fd-4247-fd67-16e4d4525c9b"
   },
   "outputs": [
    {
     "data": {
      "text/html": [
       "<div>\n",
       "<style scoped>\n",
       "    .dataframe tbody tr th:only-of-type {\n",
       "        vertical-align: middle;\n",
       "    }\n",
       "\n",
       "    .dataframe tbody tr th {\n",
       "        vertical-align: top;\n",
       "    }\n",
       "\n",
       "    .dataframe thead th {\n",
       "        text-align: right;\n",
       "    }\n",
       "</style>\n",
       "<table border=\"1\" class=\"dataframe\">\n",
       "  <thead>\n",
       "    <tr style=\"text-align: right;\">\n",
       "      <th></th>\n",
       "      <th>package_name</th>\n",
       "      <th>review</th>\n",
       "      <th>polarity</th>\n",
       "    </tr>\n",
       "  </thead>\n",
       "  <tbody>\n",
       "    <tr>\n",
       "      <th>0</th>\n",
       "      <td>com.facebook.katana</td>\n",
       "      <td>privacy at least put some option appear offli...</td>\n",
       "      <td>0</td>\n",
       "    </tr>\n",
       "    <tr>\n",
       "      <th>1</th>\n",
       "      <td>com.facebook.katana</td>\n",
       "      <td>messenger issues ever since the last update, ...</td>\n",
       "      <td>0</td>\n",
       "    </tr>\n",
       "    <tr>\n",
       "      <th>2</th>\n",
       "      <td>com.facebook.katana</td>\n",
       "      <td>profile any time my wife or anybody has more ...</td>\n",
       "      <td>0</td>\n",
       "    </tr>\n",
       "    <tr>\n",
       "      <th>3</th>\n",
       "      <td>com.facebook.katana</td>\n",
       "      <td>the new features suck for those of us who don...</td>\n",
       "      <td>0</td>\n",
       "    </tr>\n",
       "    <tr>\n",
       "      <th>4</th>\n",
       "      <td>com.facebook.katana</td>\n",
       "      <td>forced reload on uploading pic on replying co...</td>\n",
       "      <td>0</td>\n",
       "    </tr>\n",
       "  </tbody>\n",
       "</table>\n",
       "</div>"
      ],
      "text/plain": [
       "          package_name  ... polarity\n",
       "0  com.facebook.katana  ...        0\n",
       "1  com.facebook.katana  ...        0\n",
       "2  com.facebook.katana  ...        0\n",
       "3  com.facebook.katana  ...        0\n",
       "4  com.facebook.katana  ...        0\n",
       "\n",
       "[5 rows x 3 columns]"
      ]
     },
     "execution_count": 27,
     "metadata": {},
     "output_type": "execute_result"
    }
   ],
   "source": [
    "import pandas as pd\n",
    "data=pd.read_csv('/content/drive/My Drive/playstore_data_review.csv')\n",
    "data.head()"
   ]
  },
  {
   "cell_type": "code",
   "execution_count": 28,
   "metadata": {
    "id": "wzYlF3yOO86J"
   },
   "outputs": [],
   "source": [
    "def preprocess_data(data):\n",
    "    # Remove package name as it's not relevant\n",
    "    data = data.drop('package_name', axis=1)\n",
    "    \n",
    "    # Convert text to lowercase\n",
    "    data['review'] = data['review'].str.strip().str.lower()\n",
    "    return data"
   ]
  },
  {
   "cell_type": "code",
   "execution_count": 29,
   "metadata": {
    "id": "cAF5GyzHO823"
   },
   "outputs": [],
   "source": [
    "data = preprocess_data(data)"
   ]
  },
  {
   "cell_type": "code",
   "execution_count": 30,
   "metadata": {
    "id": "EwQCkfECO8zW"
   },
   "outputs": [],
   "source": [
    "from sklearn.model_selection import train_test_split\n",
    "# Split into training and testing data\n",
    "x = data['review']\n",
    "y = data['polarity']\n",
    "x_train, x_test, y_train, y_test = train_test_split(x,y, stratify=y, test_size=0.25, random_state=42)"
   ]
  },
  {
   "cell_type": "code",
   "execution_count": 31,
   "metadata": {
    "id": "yjJxozC8PdJi"
   },
   "outputs": [],
   "source": [
    "from sklearn.feature_extraction.text import CountVectorizer\n",
    "# Vectorize text reviews to numbers\n",
    "vec = CountVectorizer(stop_words='english')\n",
    "x_train = vec.fit_transform(x_train).toarray()\n",
    "x_test = vec.transform(x_test).toarray()"
   ]
  },
  {
   "cell_type": "code",
   "execution_count": 32,
   "metadata": {
    "colab": {
     "base_uri": "https://localhost:8080/"
    },
    "id": "ghPQdsE9PdGW",
    "outputId": "92f19497-b692-441a-81f3-7d84ecb2fbc5"
   },
   "outputs": [
    {
     "name": "stdout",
     "output_type": "stream",
     "text": [
      "\n",
      " Accuracy :  0.8565022421524664\n"
     ]
    },
    {
     "data": {
      "text/plain": [
       "array([1])"
      ]
     },
     "execution_count": 32,
     "metadata": {},
     "output_type": "execute_result"
    }
   ],
   "source": [
    "from sklearn.naive_bayes import MultinomialNB\n",
    "\n",
    "model = MultinomialNB()\n",
    "model.fit(x_train, y_train)\n",
    "acc=model.score(x_test, y_test)\n",
    "print('\\n Accuracy : ',acc)\n",
    "model.predict(vec.transform(['Love this app simply awesome!']))"
   ]
  },
  {
   "cell_type": "code",
   "execution_count": 33,
   "metadata": {
    "colab": {
     "base_uri": "https://localhost:8080/"
    },
    "id": "mnw64k25O8wO",
    "outputId": "c7f482c6-adca-4187-c1f5-226fe7e05aa4"
   },
   "outputs": [
    {
     "name": "stdout",
     "output_type": "stream",
     "text": [
      "\n",
      " Accuracy :  0.8071748878923767\n"
     ]
    },
    {
     "data": {
      "text/plain": [
       "array([1])"
      ]
     },
     "execution_count": 33,
     "metadata": {},
     "output_type": "execute_result"
    }
   ],
   "source": [
    "from sklearn.naive_bayes import GaussianNB\n",
    "model = GaussianNB()\n",
    "model.fit(x_train, y_train)\n",
    "acc=model.score(x_test, y_test)\n",
    "print('\\n Accuracy : ',acc)\n",
    "model.predict(vec.transform(['Love this app simply awesome!']).toarray())"
   ]
  },
  {
   "cell_type": "code",
   "execution_count": 34,
   "metadata": {
    "colab": {
     "base_uri": "https://localhost:8080/"
    },
    "id": "G70e73TvPnGf",
    "outputId": "e111e11f-5d8a-44e5-e81e-76f86641fad0"
   },
   "outputs": [
    {
     "name": "stdout",
     "output_type": "stream",
     "text": [
      "\n",
      " Accuracy :  0.7668161434977578\n"
     ]
    },
    {
     "data": {
      "text/plain": [
       "array([1])"
      ]
     },
     "execution_count": 34,
     "metadata": {},
     "output_type": "execute_result"
    }
   ],
   "source": [
    "from sklearn.naive_bayes import BernoulliNB\n",
    "model = BernoulliNB()\n",
    "model.fit(x_train, y_train)\n",
    "acc=model.score(x_test, y_test)\n",
    "print('\\n Accuracy : ',acc)\n",
    "model.predict(vec.transform(['Love this app simply awesome!']).toarray())"
   ]
  }
 ],
 "metadata": {
  "colab": {
   "collapsed_sections": [],
   "name": "Lab_10_Naive_Bayes_Nikunj.ipynb",
   "provenance": []
  },
  "kernelspec": {
   "display_name": "Python 3",
   "language": "python",
   "name": "python3"
  },
  "language_info": {
   "codemirror_mode": {
    "name": "ipython",
    "version": 3
   },
   "file_extension": ".py",
   "mimetype": "text/x-python",
   "name": "python",
   "nbconvert_exporter": "python",
   "pygments_lexer": "ipython3",
   "version": "3.8.8"
  }
 },
 "nbformat": 4,
 "nbformat_minor": 1
}
