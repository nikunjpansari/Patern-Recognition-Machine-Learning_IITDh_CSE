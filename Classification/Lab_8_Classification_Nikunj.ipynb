{
  "nbformat": 4,
  "nbformat_minor": 0,
  "metadata": {
    "colab": {
      "name": "Lab_8_Classification_Solutions.ipynb",
      "provenance": []
    },
    "kernelspec": {
      "name": "python3",
      "display_name": "Python 3"
    },
    "language_info": {
      "name": "python"
    }
  },
  "cells": [
    {
      "cell_type": "markdown",
      "metadata": {
        "id": "3Mv3HAc5lxDS"
      },
      "source": [
        "#LAB 8 : Classification\n",
        "\n",
        "  1. Support Vector Machines \n",
        "  2. K-Nearest Neighbors\n",
        "  3. Classification on MNIST Digit "
      ]
    },
    {
      "cell_type": "code",
      "metadata": {
        "id": "NS7TheMHWvey"
      },
      "source": [
        "import numpy as np\n",
        "import matplotlib.pyplot as plt\n",
        "import math"
      ],
      "execution_count": 1,
      "outputs": []
    },
    {
      "cell_type": "markdown",
      "metadata": {
        "id": "SijY2JQYm6MH"
      },
      "source": [
        "#Support Vector Machines (SVM)\n",
        "\n"
      ]
    },
    {
      "cell_type": "markdown",
      "metadata": {
        "id": "YrR-b3HRqHyt"
      },
      "source": [
        "1. Try to maximize the margin of separation between data.\n",
        "2. Instead of learning wx+b=0  separating hyperplane directly (like logistic regression), SVM try to learn wx+b=0, such that, the margin between two hyperplanes wx+b=1 and wx+b=-1 (also known as support vectors) is maximum. \n",
        "3. Margin between wx+b=1 and wx+b=-1 hyperplane is $\\frac{2}{||w||}$\n",
        "4. we have a constraint optimization problem of maximizing $\\frac{2}{||w||}$, with constraints wx+b>=1 (for +ve class) and wx+b<=-1 (for -ve class).\n",
        "5. As $y_{i}=1$ for +ve class and $y_{i}=-1$ for -ve class, the constraint can be re-written as:\n",
        "$$y(wx+b)>=1$$\n",
        "\n",
        "6. Final optimization is (i.e to find w and b):\n",
        "$$\\min_{||w||}\\frac{1}{2}||w||,$$\n",
        "$$y(wx+b) \\geq 1,~\\forall ~data $$\n",
        "\n",
        "\n",
        "\n",
        "Acknowledgement:\n",
        "\n",
        "https://pythonprogramming.net/predictions-svm-machine-learning-tutorial/\n",
        "\n",
        "https://medium.com/deep-math-machine-learning-ai/chapter-3-1-svm-from-scratch-in-python-86f93f853dc"
      ]
    },
    {
      "cell_type": "markdown",
      "metadata": {
        "id": "0WCG5fd2n6fo"
      },
      "source": [
        "## Data generation:\n",
        "1. Generate 2D gaussian data with fixed mean and variance for 2 class.(var=Identity, class1: mean[-4,-4], class2: mean[1,1], No. of data 25 from each class)\n",
        "2. create the label matrix\n",
        "3. Plot the generated data"
      ]
    },
    {
      "cell_type": "code",
      "metadata": {
        "colab": {
          "base_uri": "https://localhost:8080/",
          "height": 315
        },
        "id": "a72yGlURm9aR",
        "outputId": "6d4849d1-a2e8-446e-d889-59e1f2282aa9"
      },
      "source": [
        "No_sample=50\n",
        "mean1=np.array([-3,-3])\n",
        "var1=np.array([[1,0],[0,1]])\n",
        "mean2=np.array([1,1])\n",
        "var2=var1\n",
        "data1=np.random.multivariate_normal(mean1,var1,int(No_sample/2))\n",
        "data2=np.random.multivariate_normal(mean2,var2,int(No_sample/2))\n",
        "X=np.concatenate((data1,data2))\n",
        "print(X.shape)\n",
        "y=np.concatenate((-1*np.ones(data1.shape[0]),np.ones(data2.shape[0])))\n",
        "print(y.shape)\n",
        "\n",
        "plt.figure()\n",
        "plt.scatter(X[:,0],X[:,1],marker='o',c=y)"
      ],
      "execution_count": 2,
      "outputs": [
        {
          "output_type": "stream",
          "name": "stdout",
          "text": [
            "(50, 2)\n",
            "(50,)\n"
          ]
        },
        {
          "output_type": "execute_result",
          "data": {
            "text/plain": [
              "<matplotlib.collections.PathCollection at 0x7f679b998490>"
            ]
          },
          "metadata": {},
          "execution_count": 2
        },
        {
          "output_type": "display_data",
          "data": {
            "image/png": "[encoded data removed]",
            "text/plain": [
              "<Figure size 432x288 with 1 Axes>"
            ]
          },
          "metadata": {
            "needs_background": "light"
          }
        }
      ]
    },
    {
      "cell_type": "markdown",
      "metadata": {
        "id": "Phj7pyfloB14"
      },
      "source": [
        "Create a data dictionary, which contains both label and data points."
      ]
    },
    {
      "cell_type": "code",
      "metadata": {
        "id": "bHCOeQPGoBgn"
      },
      "source": [
        "postiveX=[]\n",
        "negativeX=[]\n",
        "for i,v in enumerate(y):\n",
        "    if v==-1:\n",
        "        negativeX.append(X[i])\n",
        "    else:\n",
        "        postiveX.append(X[i])\n",
        "\n",
        "#our data dictionary\n",
        "data_dict = {-1:np.array(negativeX), 1:np.array(postiveX)} "
      ],
      "execution_count": 3,
      "outputs": []
    },
    {
      "cell_type": "markdown",
      "metadata": {
        "id": "0eLaHuaEoGua"
      },
      "source": [
        "## SVM training\n",
        "1. create a search space for w (i.e w1=w2),[0, 0.5*max((abs(feat)))] and  for b, [-max((abs(feat))),max((abs(feat)))], with appropriate step.\n",
        "2. we will start with a higher step and find optimal w and b, then we will reduce the step and again re-evaluate the optimal one.\n",
        "\n",
        "3. In each step, we will take transform of w, [1,1], [-1,1],[1,-1] and [-1,-1] to search arround the w. \n",
        "\n",
        "4. In every pass (for a fixed step size) we will store all the w, b and its corresponding ||w||, which make the data correctly classified as per the condition $y(wx+b) \\geq 1$. \n",
        "\n",
        "5. Obtain the optimal hyperplane having minimum ||w||.\n",
        "\n",
        "6. Start with the optimal w and repeat the same (step 3,4 and 5) for a reduced step size.\n"
      ]
    },
    {
      "cell_type": "code",
      "metadata": {
        "id": "S0SJ1SkDoHk4"
      },
      "source": [
        "# it is just a searching algorithem, not a complicated optimization algorithem, (just for understanding of concepts through visualization)\n",
        "\n",
        "def SVM_Training(data_dict):\n",
        "\n",
        "    \n",
        "   \n",
        "    # { ||w||: [w,b] } is dictionary contains norms of w and corresponding w and b value, \n",
        "    # where all the data points are correctly classified\n",
        "    length_Wvector = {}\n",
        "    transforms = [[1,1],[-1,1],[-1,-1],[1,-1]]\n",
        "\n",
        "    max_feature_value=np.max([np.max(np.abs(data_dict[1])),np.max(np.abs(data_dict[-1]))]) \n",
        "    steps = [max_feature_value * 0.1, max_feature_value * 0.01, max_feature_value * 0.001]\n",
        "\n",
        "    b_step_size = 2\n",
        "    b_multiple = 5\n",
        "    w_optimum = max_feature_value*0.5\n",
        "\n",
        "    for step in steps:\n",
        "        \n",
        "        w = np.array([w_optimum,w_optimum])     \n",
        "        srch_comp = False\n",
        "        while not srch_comp:\n",
        "            #b=[-maxvalue to maxvalue] we wanna maximize the b values so check for every b value\n",
        "            for b in np.arange(-1*(max_feature_value*b_step_size), max_feature_value*b_step_size, step*b_multiple):\n",
        "                for transformation in transforms:  # transforms = [[1,1],[-1,1],[-1,-1],[1,-1]]\n",
        "                    w_t = w*transformation\n",
        "                    \n",
        "                    correctly_classified = True\n",
        "                    \n",
        "                    # every data point should be correct\n",
        "                    for yi in data_dict:\n",
        "                        for xi in data_dict[yi]:\n",
        "                            if yi*(np.dot(w_t,xi)+b) < 1:  # we want  yi*(np.dot(w_t,xi)+b) >= 1 for correct classification\n",
        "                                correctly_classified = False\n",
        "                                \n",
        "                    if correctly_classified:\n",
        "                        length_Wvector[np.linalg.norm(w_t)] = [w_t,b] #store w, b for minimum magnitude\n",
        "            \n",
        "            if w[0] < 0:\n",
        "                srch_comp = True\n",
        "            else:\n",
        "                w = w - step\n",
        "\n",
        "        norms = sorted([n for n in length_Wvector]) # sort the heated norms\n",
        "        \n",
        "        minimum_wlength = length_Wvector[norms[0]]\n",
        "        w = minimum_wlength[0]\n",
        "        b = minimum_wlength[1]\n",
        "        \n",
        "        w_optimum = w[0] # w1 and w2 are same\n",
        "    \n",
        "    return w,b\n",
        "\n"
      ],
      "execution_count": 4,
      "outputs": []
    },
    {
      "cell_type": "markdown",
      "metadata": {
        "id": "Z61b1mAfoOg0"
      },
      "source": [
        "**Training**"
      ]
    },
    {
      "cell_type": "code",
      "metadata": {
        "colab": {
          "base_uri": "https://localhost:8080/"
        },
        "id": "oL5YnFPeoO--",
        "outputId": "66869983-a5ac-4fca-b8d8-04074a848eb9"
      },
      "source": [
        "# All the required variables \n",
        "w=[] # Weights 2 dimensional vector\n",
        "b=[] # Bias\n",
        "w,b=SVM_Training(data_dict)\n",
        "print(w)\n",
        "print(b)"
      ],
      "execution_count": 5,
      "outputs": [
        {
          "output_type": "stream",
          "name": "stdout",
          "text": [
            "[0.58953383 0.58953383]\n",
            "0.7123533749412445\n"
          ]
        }
      ]
    },
    {
      "cell_type": "markdown",
      "metadata": {
        "id": "iJNvumy3oXXi"
      },
      "source": [
        "## Visualization of the SVM separating hyperplanes (after training)"
      ]
    },
    {
      "cell_type": "code",
      "metadata": {
        "id": "fsGQFTlIoYKj"
      },
      "source": [
        "def visualize(data_dict):\n",
        "       \n",
        "        \n",
        "        plt.scatter(X[:,0],X[:,1],marker='o',c=y)\n",
        "\n",
        "        # hyperplane = x.w+b\n",
        "        # v = x.w+b\n",
        "        # psv = 1\n",
        "        # nsv = -1\n",
        "        # dec = 0\n",
        "        def hyperplane_value(x,w,b,v):\n",
        "            return (-w[0]*x-b+v) / w[1]\n",
        "\n",
        "        \n",
        "        hyp_x_min = np.min([np.min(data_dict[1]),np.min(data_dict[-1])])\n",
        "        hyp_x_max = np.max([np.max(data_dict[1]),np.max(data_dict[-1])])\n",
        "\n",
        "        # (w.x+b) = 1\n",
        "        # positive support vector hyperplane\n",
        "        psv1 = hyperplane_value(hyp_x_min, w, b, 1)\n",
        "        psv2 = hyperplane_value(hyp_x_max, w, b, 1)\n",
        "        plt.plot([hyp_x_min,hyp_x_max],[psv1,psv2], 'k')\n",
        "\n",
        "        # (w.x+b) = -1\n",
        "        # negative support vector hyperplane\n",
        "        nsv1 = hyperplane_value(hyp_x_min, w, b, -1)\n",
        "        nsv2 = hyperplane_value(hyp_x_max, w, b, -1)\n",
        "        plt.plot([hyp_x_min,hyp_x_max],[nsv1,nsv2], 'k')\n",
        "\n",
        "        # (w.x+b) = 0\n",
        "        # positive support vector hyperplane\n",
        "        db1 = hyperplane_value(hyp_x_min, w, b, 0)\n",
        "        db2 = hyperplane_value(hyp_x_max, w, b, 0)\n",
        "        plt.plot([hyp_x_min,hyp_x_max],[db1,db2], 'y--')\n",
        "        \n",
        "        \n",
        "        "
      ],
      "execution_count": 6,
      "outputs": []
    },
    {
      "cell_type": "code",
      "metadata": {
        "colab": {
          "base_uri": "https://localhost:8080/",
          "height": 265
        },
        "id": "uqu0Z8Nnodvy",
        "outputId": "6a275e6e-d5c5-48f3-a788-3f81eac31417"
      },
      "source": [
        "fig = plt.figure()\n",
        "visualize(data_dict)"
      ],
      "execution_count": 7,
      "outputs": [
        {
          "output_type": "display_data",
          "data": {
            "image/png": "[encoded data removed]",
            "text/plain": [
              "<Figure size 432x288 with 1 Axes>"
            ]
          },
          "metadata": {
            "needs_background": "light"
          }
        }
      ]
    },
    {
      "cell_type": "markdown",
      "metadata": {
        "id": "Hc2Tv8o0obsa"
      },
      "source": [
        "**Testing**"
      ]
    },
    {
      "cell_type": "code",
      "metadata": {
        "id": "Rb2tGapZohLM"
      },
      "source": [
        "def predict(data,w,b):\n",
        "  y_pred=np.sign(np.dot(data,w)+b)\n",
        "  return y_pred"
      ],
      "execution_count": 8,
      "outputs": []
    },
    {
      "cell_type": "code",
      "metadata": {
        "colab": {
          "base_uri": "https://localhost:8080/",
          "height": 298
        },
        "id": "mo2AIA3qopXm",
        "outputId": "845f5a86-aea0-43ab-c9aa-a7fee27adc3b"
      },
      "source": [
        "No_test_sample=40\n",
        "data1=np.random.multivariate_normal(mean1,var1,int(No_test_sample/2))\n",
        "data2=np.random.multivariate_normal(mean2,var2,int(No_test_sample/2))\n",
        "test_data=np.concatenate((data1,data2))\n",
        "y_gr=np.concatenate((-1*np.ones(data1.shape[0]),np.ones(data2.shape[0])))\n",
        "\n",
        "# evaluate with the trained model\n",
        "\n",
        "y_pred=predict(test_data,w,b)\n",
        "accuracy=(1-(np.abs(0.5*np.sum(y_pred-y_gr))/y_pred.shape[0]))*100\n",
        "print('test accuracy=',accuracy)\n",
        "\n",
        "#  Visualization\n",
        "plt.figure()\n",
        "visualize(data_dict)\n",
        "plt.scatter(test_data[:,0],test_data[:,1],marker='x',c=y_gr)\n"
      ],
      "execution_count": 9,
      "outputs": [
        {
          "output_type": "stream",
          "name": "stdout",
          "text": [
            "test accuracy= 100.0\n"
          ]
        },
        {
          "output_type": "execute_result",
          "data": {
            "text/plain": [
              "<matplotlib.collections.PathCollection at 0x7f679122fd50>"
            ]
          },
          "metadata": {},
          "execution_count": 9
        },
        {
          "output_type": "display_data",
          "data": {
            "image/png": "[encoded data removed]",
            "text/plain": [
              "<Figure size 432x288 with 1 Axes>"
            ]
          },
          "metadata": {
            "needs_background": "light"
          }
        }
      ]
    },
    {
      "cell_type": "markdown",
      "metadata": {
        "id": "SZ2tNKujp4GY"
      },
      "source": [
        "**Use the Sci-kit Learn Package and perform Classification on the above dataset using the SVM algorithm**"
      ]
    },
    {
      "cell_type": "code",
      "metadata": {
        "id": "GEeB59yip7pI",
        "colab": {
          "base_uri": "https://localhost:8080/"
        },
        "outputId": "78212938-b071-44d7-eb57-1b2fd31a406f"
      },
      "source": [
        "from sklearn.svm import LinearSVC\n",
        "svm = LinearSVC()\n",
        "svm.fit(X,y)\n",
        "tr_Acc = svm.score(X,y)\n",
        "print('Train accuracy SVM =',tr_Acc*100)"
      ],
      "execution_count": 12,
      "outputs": [
        {
          "output_type": "stream",
          "name": "stdout",
          "text": [
            "Train accuracy SVM = 100.0\n"
          ]
        }
      ]
    },
    {
      "cell_type": "code",
      "metadata": {
        "colab": {
          "base_uri": "https://localhost:8080/"
        },
        "id": "rhWRSjKC8TY5",
        "outputId": "f82deaba-cee9-44c7-f4b7-ee46a69f49af"
      },
      "source": [
        "# svm testing\n",
        "from sklearn.metrics import confusion_matrix as conf_mat\n",
        "y_pred=svm.predict(test_data)\n",
        "svm_Acc=svm.score(test_data,y_gr)\n",
        "print('Test accuracy SVM=',svm_Acc*100)\n",
        "print('Confusion matrix=\\n',conf_mat(y_gr,y_pred))"
      ],
      "execution_count": 14,
      "outputs": [
        {
          "output_type": "stream",
          "name": "stdout",
          "text": [
            "Test accuracy SVM= 100.0\n",
            "Confusion matrix=\n",
            " [[20  0]\n",
            " [ 0 20]]\n"
          ]
        }
      ]
    },
    {
      "cell_type": "markdown",
      "metadata": {
        "id": "mcLrD0lXmGu8"
      },
      "source": [
        "#K-Nearest Neighbours (KNN)"
      ]
    },
    {
      "cell_type": "code",
      "metadata": {
        "colab": {
          "base_uri": "https://localhost:8080/",
          "height": 298
        },
        "id": "lo8_k4OnmQSo",
        "outputId": "1c143162-cc92-4218-e21a-d30ee797bf65"
      },
      "source": [
        "import numpy as np\n",
        "import matplotlib.pyplot as plt\n",
        "\n",
        "mean1=np.array([0,0])\n",
        "mean2=np.array([1,1])\n",
        "var=np.array([[1,0.1],[0.1,1]])\n",
        "np.random.seed(0)\n",
        "data1=np.random.multivariate_normal(mean1,var,500)\n",
        "data2=np.random.multivariate_normal(mean2,var,500)\n",
        "data_train=np.concatenate((data1[:-100,],data2[:-100]))\n",
        "label=np.concatenate((np.zeros(data1.shape[0]-100),np.ones(data2.shape[0]-100)))\n",
        "\n",
        "plt.figure()\n",
        "plt.scatter(data_train[:,0],data_train[:,1],c=label)\n",
        "plt.title('Data visualization')"
      ],
      "execution_count": 15,
      "outputs": [
        {
          "output_type": "execute_result",
          "data": {
            "text/plain": [
              "Text(0.5, 1.0, 'Data visualization')"
            ]
          },
          "metadata": {},
          "execution_count": 15
        },
        {
          "output_type": "display_data",
          "data": {
            "image/png": "[encoded data removed]",
            "text/plain": [
              "<Figure size 432x288 with 1 Axes>"
            ]
          },
          "metadata": {
            "needs_background": "light"
          }
        }
      ]
    },
    {
      "cell_type": "code",
      "metadata": {
        "id": "SNvi2JezmTdv"
      },
      "source": [
        "def euclidean_distance(row1, row2):\n",
        "  return np.linalg.norm(row1-row2)"
      ],
      "execution_count": 16,
      "outputs": []
    },
    {
      "cell_type": "code",
      "metadata": {
        "id": "p7bHKojymWDK"
      },
      "source": [
        "def get_neighbors(train,label_train, test_row, num_neighbors):\n",
        "  distances = list()\n",
        "  for i in range(train.shape[0]):\n",
        "    train_row=train[i,:]\n",
        "    label_row=label_train[i]\n",
        "    dist = euclidean_distance(test_row, train_row)\n",
        "    distances.append((train_row, dist,label_row))\n",
        "  distances.sort(key=lambda tup: tup[1])\n",
        "  neighbors = list()\n",
        "  for i in range(num_neighbors):\n",
        "    neighbors.append(distances[i])\n",
        "  return neighbors"
      ],
      "execution_count": 17,
      "outputs": []
    },
    {
      "cell_type": "code",
      "metadata": {
        "id": "8o48BauFmX6G"
      },
      "source": [
        "def predict_classification(neigbors):\n",
        "  pred=list()\n",
        "  for i in range(len(neigbors)):\n",
        "    pred.append(neigbors[i][2])\n",
        "  prediction = max(set(pred), key=pred.count)\n",
        "  return prediction"
      ],
      "execution_count": 18,
      "outputs": []
    },
    {
      "cell_type": "code",
      "metadata": {
        "id": "wGgiErPimZue"
      },
      "source": [
        "# test data generation\n",
        "data_test=np.concatenate((data1[-100:],data2[-100:]))\n",
        "label_test=np.concatenate((np.zeros(100),np.ones(100)))"
      ],
      "execution_count": 19,
      "outputs": []
    },
    {
      "cell_type": "code",
      "metadata": {
        "colab": {
          "base_uri": "https://localhost:8080/"
        },
        "id": "ELgGMgKnmeKu",
        "outputId": "11e64426-496f-4c47-99b8-b16b267565cb"
      },
      "source": [
        "K=2\n",
        "\n",
        "pred_label=np.zeros(data_test.shape[0])\n",
        "for i in range(data_test.shape[0]):\n",
        "  neig=get_neighbors(data_train,label, data_test[i,:], K)\n",
        "  pred_label[i]=predict_classification(neig)\n",
        "\n",
        "accuracy=(len(np.where(pred_label==label_test)[0])/len(label_test))*100\n",
        "print('Testing Accuracy=',accuracy,'%')"
      ],
      "execution_count": 20,
      "outputs": [
        {
          "output_type": "stream",
          "name": "stdout",
          "text": [
            "Testing Accuracy= 65.5 %\n"
          ]
        }
      ]
    },
    {
      "cell_type": "markdown",
      "metadata": {
        "id": "kZ3mcjd3nFg2"
      },
      "source": [
        "**Use the Sci-kit Learn Package and perform Classification on the above dataset using the K-Nearest Neighbour algorithm**"
      ]
    },
    {
      "cell_type": "code",
      "metadata": {
        "id": "XmfzWbEZnbX-",
        "colab": {
          "base_uri": "https://localhost:8080/"
        },
        "outputId": "933b7a43-bdd1-4e25-d3e3-f6c0acd4b4cc"
      },
      "source": [
        "from sklearn.neighbors import KNeighborsClassifier\n",
        "model = KNeighborsClassifier(n_neighbors=2)\n",
        "model.fit(data_train,label)\n",
        "pred_label = model.predict(data_test)\n",
        "\n",
        "accuracy=(len(np.where(pred_label==label_test)[0])/len(label_test))*100\n",
        "print('Testing Accuracy=',accuracy,'%')"
      ],
      "execution_count": 22,
      "outputs": [
        {
          "output_type": "stream",
          "name": "stdout",
          "text": [
            "Testing Accuracy= 65.5 %\n"
          ]
        }
      ]
    },
    {
      "cell_type": "markdown",
      "metadata": {
        "id": "ygq-jJs6Lxs9"
      },
      "source": [
        "#Classification on MNIST Digit Data"
      ]
    },
    {
      "cell_type": "markdown",
      "metadata": {
        "id": "cXApOGmzMxRp"
      },
      "source": [
        "1. Read MNIST data and perform train-test split\n",
        "2. Select any 2 Classes and perform classification task using SVM, KNN and Logistic Regression algorithms with the help of Sci-Kit Learn tool\n",
        "3. Report the train and test accuracy and also display the results using confusion matrix\n",
        "4. Repeat steps 2 and 3 for all 10 Classes and tabulate the results"
      ]
    },
    {
      "cell_type": "code",
      "metadata": {
        "id": "qPJhg4hhMXaE",
        "colab": {
          "base_uri": "https://localhost:8080/"
        },
        "outputId": "99390105-bc9d-41bd-9cf7-7b99850aae18"
      },
      "source": [
        "# from google.colab import drive\n",
        "# drive.mount('/gdrive')\n",
        "!pip install idx2numpy"
      ],
      "execution_count": 23,
      "outputs": [
        {
          "output_type": "stream",
          "name": "stdout",
          "text": [
            "Collecting idx2numpy\n",
            "  Downloading idx2numpy-1.2.3.tar.gz (6.8 kB)\n",
            "Requirement already satisfied: numpy in /usr/local/lib/python3.7/dist-packages (from idx2numpy) (1.19.5)\n",
            "Requirement already satisfied: six in /usr/local/lib/python3.7/dist-packages (from idx2numpy) (1.15.0)\n",
            "Building wheels for collected packages: idx2numpy\n",
            "  Building wheel for idx2numpy (setup.py) ... \u001b[?25l\u001b[?25hdone\n",
            "  Created wheel for idx2numpy: filename=idx2numpy-1.2.3-py3-none-any.whl size=7919 sha256=fe3b197928fffeca37b34dc0e7f469cb48191e3629e835dd7e3db4ba3f455ef5\n",
            "  Stored in directory: /root/.cache/pip/wheels/1a/ce/ad/d5e95a35cfe34149aade5e500f2edd535c0566d79e9a8e1d8a\n",
            "Successfully built idx2numpy\n",
            "Installing collected packages: idx2numpy\n",
            "Successfully installed idx2numpy-1.2.3\n"
          ]
        }
      ]
    },
    {
      "cell_type": "code",
      "metadata": {
        "id": "HDcktmKo9ZSd"
      },
      "source": [
        "import numpy as np\n",
        "import matplotlib.pyplot as plt \n",
        "from sklearn.utils import shuffle\n",
        "\n",
        "\n",
        "file1='/content/train-images.idx3-ubyte'\n",
        "file2='/content/train-labels.idx1-ubyte'\n",
        "\n",
        "import idx2numpy\n",
        "\n",
        "\n",
        "# input image dimensions\n",
        "img_rows, img_cols = 28, 28\n",
        "\n",
        "cl1, cl2 = 2, 9 #choose two class you want to evaluate\n",
        "\n",
        "\n",
        "x_train= idx2numpy.convert_from_file(file1)\n",
        "y_train= idx2numpy.convert_from_file(file2)"
      ],
      "execution_count": 24,
      "outputs": []
    },
    {
      "cell_type": "code",
      "metadata": {
        "colab": {
          "base_uri": "https://localhost:8080/",
          "height": 284
        },
        "id": "oupba7uj9eKg",
        "outputId": "eb700654-740c-40e6-fec9-e8fe73c6ffbe"
      },
      "source": [
        "###############################################################################################################33\n",
        "i, = np.where(y_train == cl1)   #used to separate index information of class 1\n",
        "j, = np.where(y_train == cl2)   #used to separate index information of class 2\n",
        "\n",
        "cl1_train=x_train[i,:,:]        #pooled out the data corresponds to class1\n",
        "cl1_label=y_train[i]            #pooled out the data labels corresponds to class1\n",
        "\n",
        "cl2_train=x_train[j,:,:]        #pooled out the data corresponds to class2\n",
        "cl2_label=y_train[j]            #pooled out the data labels corresponds to class2\n",
        "\n",
        "train_com = np.concatenate((cl1_train,cl2_train),axis=0)  #Marge the class1 and class2 data\n",
        "train_lab=np.concatenate((cl1_label,cl2_label),axis=0)   #Marge the labels of class1 and class2\n",
        "\n",
        "[train_sff,train_labs]=shuffle(train_com,train_lab)     # Shuffle the data and label (to properly train the network)\n",
        "#%%\n",
        "############################################# Plot to shuffled data ###########################\n",
        "fig = plt.figure()\n",
        "for i in range(16):\n",
        "  plt.subplot(4,4,i+1)\n",
        "  plt.tight_layout()\n",
        "  plt.imshow(train_sff[i], cmap='gray', interpolation='none')\n",
        "  plt.title(\"Digit: {}\".format(train_labs[i]))\n",
        "  plt.xticks([])\n",
        "  plt.yticks([])\n",
        "fig\n",
        "#%%\n",
        "########################################### Change the labels to 0 and 1 ( as dealing with 2 class), for easy conversion of categorial ###############################\n",
        "np.place(train_labs, train_labs==cl1, [0])\n",
        "np.place(train_labs, train_labs==cl2, [1])\n",
        "\n",
        "############################################################################################################\n",
        "#train_labs_cat = keras.utils.to_categorical(train_labs, 2)          # make the output label categorical\n",
        "#\n",
        "train_sff = train_sff.astype('float32')\n",
        "\n",
        "train_sff /= 255\n",
        "\n",
        "ftrain_sff=train_sff.reshape(train_labs.shape[0],img_rows*img_cols)  # flattern the input data"
      ],
      "execution_count": 25,
      "outputs": [
        {
          "output_type": "display_data",
          "data": {
            "image/png": "[encoded data removed]",
            "text/plain": [
              "<Figure size 432x288 with 16 Axes>"
            ]
          },
          "metadata": {}
        }
      ]
    },
    {
      "cell_type": "code",
      "metadata": {
        "id": "gZKGcNFC9hF9"
      },
      "source": [
        "# testing data\n",
        "file1='/content/t10k-images-idx3-ubyte'\n",
        "file2='/content/t10k-labels-idx1-ubyte'\n",
        "\n",
        "x_test= idx2numpy.convert_from_file(file1)\n",
        "y_test= idx2numpy.convert_from_file(file2)\n"
      ],
      "execution_count": 26,
      "outputs": []
    },
    {
      "cell_type": "code",
      "metadata": {
        "id": "agkx8h8u9k9X"
      },
      "source": [
        "i, = np.where(y_test == cl1)      \n",
        "j, = np.where(y_test == cl2)\n",
        "cl1_test=x_test[i,:,:]\n",
        "cl1_label=y_test[i]\n",
        "\n",
        "#cl1_test=x_test[0:3,:,:]\n",
        "#cl1_label=y_test[0:3]\n",
        "\n",
        "\n",
        "cl2_test=x_test[j,:,:]\n",
        "cl2_label=y_test[j]\n",
        "\n",
        "#cl2_test=x_test[0:3,:,:]\n",
        "#cl2_label=y_test[0:3]\n",
        "\n",
        "test_com = np.concatenate((cl1_test,cl2_test),axis=0)\n",
        "test_lab=np.concatenate((cl1_label,cl2_label),axis=0)\n",
        "\n",
        "np.place(test_lab, test_lab==cl1, [0])\n",
        "np.place(test_lab, test_lab==cl2, [1])\n",
        "\n",
        "\n",
        "test_com = test_com.astype('float32')\n",
        "\n",
        "test_com /= 255\n",
        "\n",
        "ftest_com=test_com.reshape(test_lab.shape[0],img_rows*img_cols)"
      ],
      "execution_count": 27,
      "outputs": []
    },
    {
      "cell_type": "code",
      "metadata": {
        "id": "KxzV1jle9mZm"
      },
      "source": [
        "from sklearn.multiclass import OneVsRestClassifier\n",
        "from sklearn.linear_model import LogisticRegression\n",
        "from sklearn.svm import LinearSVC\n",
        "from sklearn.metrics import confusion_matrix as conf_mat"
      ],
      "execution_count": 28,
      "outputs": []
    },
    {
      "cell_type": "code",
      "metadata": {
        "colab": {
          "base_uri": "https://localhost:8080/"
        },
        "id": "Z2ZXk7uU9qAE",
        "outputId": "cd479745-b682-4524-bf42-1aa2efbd2978"
      },
      "source": [
        "################################################################################################################\n",
        "#LR Training\n",
        "Lreg = LogisticRegression(solver='liblinear')\n",
        "Lreg.fit(ftrain_sff[0:2000,:],train_labs[0:2000])\n",
        "\n",
        "LR_tr_Acc=Lreg.score(ftrain_sff[0:2000,:],train_labs[0:2000])\n",
        "\n",
        "print('Train accuracy Logistic regression=',LR_tr_Acc*100)"
      ],
      "execution_count": 31,
      "outputs": [
        {
          "output_type": "stream",
          "name": "stdout",
          "text": [
            "Train accuracy Logistic regression= 99.9\n"
          ]
        }
      ]
    },
    {
      "cell_type": "code",
      "metadata": {
        "colab": {
          "base_uri": "https://localhost:8080/"
        },
        "id": "UAe2qdM09smM",
        "outputId": "1b5f7a68-ed8a-4fb0-c229-ad949d4494fa"
      },
      "source": [
        "#LR testing\n",
        "y_pred=Lreg.predict(ftest_com)\n",
        "Lreg_Acc=Lreg.score(ftest_com,test_lab)\n",
        "print('Test accuracy Logistic regression=',Lreg_Acc*100)\n",
        "print('Confusion matrix=\\n',conf_mat(test_lab,y_pred))"
      ],
      "execution_count": 30,
      "outputs": [
        {
          "output_type": "stream",
          "name": "stdout",
          "text": [
            "Test accuracy Logistic regression= 98.6281234688878\n",
            "Confusion matrix=\n",
            " [[1016   16]\n",
            " [  12  997]]\n"
          ]
        }
      ]
    },
    {
      "cell_type": "code",
      "metadata": {
        "colab": {
          "base_uri": "https://localhost:8080/"
        },
        "id": "wkNnvlu09uAr",
        "outputId": "aa0f4656-d0cc-4f3d-c78b-fb8a82a8dfc1"
      },
      "source": [
        "# svm training\n",
        "svm = LinearSVC()\n",
        "svm.fit(ftrain_sff[0:2000,:],train_labs[0:2000])\n",
        "\n",
        "tr_Acc=svm.score(ftrain_sff[0:2000,:],train_labs[0:2000])\n",
        "print('Train accuracy SVM=',tr_Acc*100)"
      ],
      "execution_count": 32,
      "outputs": [
        {
          "output_type": "stream",
          "name": "stdout",
          "text": [
            "Train accuracy SVM= 100.0\n"
          ]
        }
      ]
    },
    {
      "cell_type": "code",
      "metadata": {
        "colab": {
          "base_uri": "https://localhost:8080/"
        },
        "id": "tP3xlRAN9wof",
        "outputId": "8ffc0c6e-3591-478b-adb0-ebb74ac94191"
      },
      "source": [
        "# svm testing\n",
        "y_pred=svm.predict(ftest_com)\n",
        "svm_Acc=svm.score(ftest_com,test_lab)\n",
        "print('Test accuracy SVM=',svm_Acc*100)\n",
        "print('Confusion matrix=\\n',conf_mat(test_lab,y_pred))\n"
      ],
      "execution_count": 33,
      "outputs": [
        {
          "output_type": "stream",
          "name": "stdout",
          "text": [
            "Test accuracy SVM= 98.67711905928466\n",
            "Confusion matrix=\n",
            " [[1016   16]\n",
            " [  11  998]]\n"
          ]
        }
      ]
    }
  ]
}